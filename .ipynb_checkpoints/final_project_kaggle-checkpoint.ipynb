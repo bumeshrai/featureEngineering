{
 "cells": [
  {
   "cell_type": "code",
   "execution_count": 1,
   "metadata": {},
   "outputs": [],
   "source": [
    "import pandas as pd\n",
    "pd.options.mode.chained_assignment = None\n",
    "\n",
    "import numpy as np\n",
    "import matplotlib.pyplot as plt\n",
    "\n",
    "import seaborn as sns\n",
    "\n",
    "import tensorflow as tf\n",
    "from tensorflow import keras\n",
    "from tensorflow.keras import layers\n",
    "\n",
    "from xgboost import XGBRegressor\n"
   ]
  },
  {
   "cell_type": "code",
   "execution_count": 2,
   "metadata": {},
   "outputs": [],
   "source": [
    "# Read the data into variable\n",
    "\n",
    "train = pd.read_csv('./final_project_data/sales_train.csv')\n",
    "items = pd.read_csv('./final_project_data/items.csv')\n",
    "item_categories = pd.read_csv('./final_project_data/item_categories.csv')\n",
    "shops = pd.read_csv('./final_project_data/shops.csv')\n",
    "test = pd.read_csv('./final_project_data/test.csv')"
   ]
  },
  {
   "cell_type": "code",
   "execution_count": 3,
   "metadata": {},
   "outputs": [
    {
     "name": "stdout",
     "output_type": "stream",
     "text": [
      "Shapes of data are:\n",
      " train:(2935849, 6)\n",
      " test:(214200, 3)\n",
      " items:(22170, 3)\n",
      " item_categories:(84, 2) \n",
      " shops:(60, 2)\n"
     ]
    }
   ],
   "source": [
    "print(f'Shapes of data are:\\n train:{train.shape}\\n test:{test.shape}\\n items:{items.shape}' +\n",
    "     f'\\n item_categories:{item_categories.shape} \\n shops:{shops.shape}')"
   ]
  },
  {
   "cell_type": "code",
   "execution_count": 5,
   "metadata": {},
   "outputs": [
    {
     "data": {
      "text/html": [
       "<div>\n",
       "<style scoped>\n",
       "    .dataframe tbody tr th:only-of-type {\n",
       "        vertical-align: middle;\n",
       "    }\n",
       "\n",
       "    .dataframe tbody tr th {\n",
       "        vertical-align: top;\n",
       "    }\n",
       "\n",
       "    .dataframe thead th {\n",
       "        text-align: right;\n",
       "    }\n",
       "</style>\n",
       "<table border=\"1\" class=\"dataframe\">\n",
       "  <thead>\n",
       "    <tr style=\"text-align: right;\">\n",
       "      <th></th>\n",
       "      <th>date</th>\n",
       "      <th>date_block_num</th>\n",
       "      <th>shop_id</th>\n",
       "      <th>item_id</th>\n",
       "      <th>item_price</th>\n",
       "      <th>item_cnt_day</th>\n",
       "    </tr>\n",
       "  </thead>\n",
       "  <tbody>\n",
       "    <tr>\n",
       "      <th>0</th>\n",
       "      <td>02.01.2013</td>\n",
       "      <td>0</td>\n",
       "      <td>59</td>\n",
       "      <td>22154</td>\n",
       "      <td>999.00</td>\n",
       "      <td>1.0</td>\n",
       "    </tr>\n",
       "    <tr>\n",
       "      <th>1</th>\n",
       "      <td>03.01.2013</td>\n",
       "      <td>0</td>\n",
       "      <td>25</td>\n",
       "      <td>2552</td>\n",
       "      <td>899.00</td>\n",
       "      <td>1.0</td>\n",
       "    </tr>\n",
       "    <tr>\n",
       "      <th>2</th>\n",
       "      <td>05.01.2013</td>\n",
       "      <td>0</td>\n",
       "      <td>25</td>\n",
       "      <td>2552</td>\n",
       "      <td>899.00</td>\n",
       "      <td>-1.0</td>\n",
       "    </tr>\n",
       "    <tr>\n",
       "      <th>3</th>\n",
       "      <td>06.01.2013</td>\n",
       "      <td>0</td>\n",
       "      <td>25</td>\n",
       "      <td>2554</td>\n",
       "      <td>1709.05</td>\n",
       "      <td>1.0</td>\n",
       "    </tr>\n",
       "    <tr>\n",
       "      <th>4</th>\n",
       "      <td>15.01.2013</td>\n",
       "      <td>0</td>\n",
       "      <td>25</td>\n",
       "      <td>2555</td>\n",
       "      <td>1099.00</td>\n",
       "      <td>1.0</td>\n",
       "    </tr>\n",
       "  </tbody>\n",
       "</table>\n",
       "</div>"
      ],
      "text/plain": [
       "         date  date_block_num  shop_id  item_id  item_price  item_cnt_day\n",
       "0  02.01.2013               0       59    22154      999.00           1.0\n",
       "1  03.01.2013               0       25     2552      899.00           1.0\n",
       "2  05.01.2013               0       25     2552      899.00          -1.0\n",
       "3  06.01.2013               0       25     2554     1709.05           1.0\n",
       "4  15.01.2013               0       25     2555     1099.00           1.0"
      ]
     },
     "execution_count": 5,
     "metadata": {},
     "output_type": "execute_result"
    }
   ],
   "source": [
    "train.head()"
   ]
  },
  {
   "cell_type": "code",
   "execution_count": 6,
   "metadata": {},
   "outputs": [
    {
     "data": {
      "text/html": [
       "<div>\n",
       "<style scoped>\n",
       "    .dataframe tbody tr th:only-of-type {\n",
       "        vertical-align: middle;\n",
       "    }\n",
       "\n",
       "    .dataframe tbody tr th {\n",
       "        vertical-align: top;\n",
       "    }\n",
       "\n",
       "    .dataframe thead th {\n",
       "        text-align: right;\n",
       "    }\n",
       "</style>\n",
       "<table border=\"1\" class=\"dataframe\">\n",
       "  <thead>\n",
       "    <tr style=\"text-align: right;\">\n",
       "      <th></th>\n",
       "      <th>ID</th>\n",
       "      <th>shop_id</th>\n",
       "      <th>item_id</th>\n",
       "    </tr>\n",
       "  </thead>\n",
       "  <tbody>\n",
       "    <tr>\n",
       "      <th>0</th>\n",
       "      <td>0</td>\n",
       "      <td>5</td>\n",
       "      <td>5037</td>\n",
       "    </tr>\n",
       "    <tr>\n",
       "      <th>1</th>\n",
       "      <td>1</td>\n",
       "      <td>5</td>\n",
       "      <td>5320</td>\n",
       "    </tr>\n",
       "    <tr>\n",
       "      <th>2</th>\n",
       "      <td>2</td>\n",
       "      <td>5</td>\n",
       "      <td>5233</td>\n",
       "    </tr>\n",
       "    <tr>\n",
       "      <th>3</th>\n",
       "      <td>3</td>\n",
       "      <td>5</td>\n",
       "      <td>5232</td>\n",
       "    </tr>\n",
       "    <tr>\n",
       "      <th>4</th>\n",
       "      <td>4</td>\n",
       "      <td>5</td>\n",
       "      <td>5268</td>\n",
       "    </tr>\n",
       "  </tbody>\n",
       "</table>\n",
       "</div>"
      ],
      "text/plain": [
       "   ID  shop_id  item_id\n",
       "0   0        5     5037\n",
       "1   1        5     5320\n",
       "2   2        5     5233\n",
       "3   3        5     5232\n",
       "4   4        5     5268"
      ]
     },
     "execution_count": 6,
     "metadata": {},
     "output_type": "execute_result"
    }
   ],
   "source": [
    "test.head()"
   ]
  },
  {
   "cell_type": "code",
   "execution_count": 7,
   "metadata": {},
   "outputs": [],
   "source": [
    "# Copy the original dataset to temp \n",
    "tn = train.copy()\n",
    "ts = test.copy()"
   ]
  },
  {
   "cell_type": "code",
   "execution_count": 8,
   "metadata": {},
   "outputs": [
    {
     "name": "stdout",
     "output_type": "stream",
     "text": [
      " before duplicate drop:(214200, 3)  after duplicate drop:(214200, 3)\n"
     ]
    }
   ],
   "source": [
    "ts.drop_duplicates()\n",
    "print(f' before duplicate drop:{test.shape}  after duplicate drop:{ts.shape}')"
   ]
  },
  {
   "cell_type": "code",
   "execution_count": 9,
   "metadata": {},
   "outputs": [
    {
     "data": {
      "text/html": [
       "<div>\n",
       "<style scoped>\n",
       "    .dataframe tbody tr th:only-of-type {\n",
       "        vertical-align: middle;\n",
       "    }\n",
       "\n",
       "    .dataframe tbody tr th {\n",
       "        vertical-align: top;\n",
       "    }\n",
       "\n",
       "    .dataframe thead th {\n",
       "        text-align: right;\n",
       "    }\n",
       "</style>\n",
       "<table border=\"1\" class=\"dataframe\">\n",
       "  <thead>\n",
       "    <tr style=\"text-align: right;\">\n",
       "      <th></th>\n",
       "      <th>date</th>\n",
       "      <th>date_block_num</th>\n",
       "      <th>shop_id</th>\n",
       "      <th>item_id</th>\n",
       "      <th>item_price</th>\n",
       "      <th>item_cnt_day</th>\n",
       "      <th>item_revenue</th>\n",
       "    </tr>\n",
       "  </thead>\n",
       "  <tbody>\n",
       "    <tr>\n",
       "      <th>0</th>\n",
       "      <td>02.01.2013</td>\n",
       "      <td>0</td>\n",
       "      <td>59</td>\n",
       "      <td>22154</td>\n",
       "      <td>999.00</td>\n",
       "      <td>1.0</td>\n",
       "      <td>999.00</td>\n",
       "    </tr>\n",
       "    <tr>\n",
       "      <th>1</th>\n",
       "      <td>03.01.2013</td>\n",
       "      <td>0</td>\n",
       "      <td>25</td>\n",
       "      <td>2552</td>\n",
       "      <td>899.00</td>\n",
       "      <td>1.0</td>\n",
       "      <td>899.00</td>\n",
       "    </tr>\n",
       "    <tr>\n",
       "      <th>2</th>\n",
       "      <td>05.01.2013</td>\n",
       "      <td>0</td>\n",
       "      <td>25</td>\n",
       "      <td>2552</td>\n",
       "      <td>899.00</td>\n",
       "      <td>-1.0</td>\n",
       "      <td>-899.00</td>\n",
       "    </tr>\n",
       "    <tr>\n",
       "      <th>3</th>\n",
       "      <td>06.01.2013</td>\n",
       "      <td>0</td>\n",
       "      <td>25</td>\n",
       "      <td>2554</td>\n",
       "      <td>1709.05</td>\n",
       "      <td>1.0</td>\n",
       "      <td>1709.05</td>\n",
       "    </tr>\n",
       "    <tr>\n",
       "      <th>4</th>\n",
       "      <td>15.01.2013</td>\n",
       "      <td>0</td>\n",
       "      <td>25</td>\n",
       "      <td>2555</td>\n",
       "      <td>1099.00</td>\n",
       "      <td>1.0</td>\n",
       "      <td>1099.00</td>\n",
       "    </tr>\n",
       "  </tbody>\n",
       "</table>\n",
       "</div>"
      ],
      "text/plain": [
       "         date  date_block_num  shop_id  item_id  item_price  item_cnt_day  \\\n",
       "0  02.01.2013               0       59    22154      999.00           1.0   \n",
       "1  03.01.2013               0       25     2552      899.00           1.0   \n",
       "2  05.01.2013               0       25     2552      899.00          -1.0   \n",
       "3  06.01.2013               0       25     2554     1709.05           1.0   \n",
       "4  15.01.2013               0       25     2555     1099.00           1.0   \n",
       "\n",
       "   item_revenue  \n",
       "0        999.00  \n",
       "1        899.00  \n",
       "2       -899.00  \n",
       "3       1709.05  \n",
       "4       1099.00  "
      ]
     },
     "execution_count": 9,
     "metadata": {},
     "output_type": "execute_result"
    }
   ],
   "source": [
    "tn['item_revenue'] = tn['item_price'] * tn['item_cnt_day']\n",
    "tn.head()"
   ]
  },
  {
   "cell_type": "markdown",
   "metadata": {},
   "source": [
    "### Copy from coursera\n",
    "\n",
    "A good exercise is to reproduce previous_value_benchmark. As the name suggest - in this benchmark for the each shop/item pair our predictions are just monthly sales from the previous month, i.e. October 2015.\n",
    "\n",
    "The most important step at reproducing this score is correctly aggregating daily data and constructing monthly sales data frame. You need to get lagged values, fill NaNs with zeros and clip the values into [0,20] range. If you do it correctly, you'll get precisely 1.16777 on the public leaderboard.\n",
    "\n",
    "Generating features like this is a necessary basis for more complex models. Also, if you decide to fit some model, don't forget to clip the target into [0,20] range, it makes a big difference.\n",
    "\n",
    "#### Yes the score I got was 1.16777"
   ]
  },
  {
   "cell_type": "code",
   "execution_count": 10,
   "metadata": {},
   "outputs": [],
   "source": [
    "# Take a copy and select 33rd month i.e Oct'15 a month before Nov'15, the prediction month.\n",
    "df_train = train.copy()\n",
    "\n",
    "# Rows selected which satisfy the condition\n",
    "tn_month_33 = df_train[df_train.date_block_num == 33]\n",
    "\n",
    "# Keep only the required columns and rename daily to monthly\n",
    "tn_33_reqd_cols = tn_month_33[['shop_id','item_id','item_cnt_day']]\n",
    "tn_33_agg_icd = tn_33_reqd_cols.groupby(['shop_id','item_id'])['item_cnt_day'].sum().reset_index()\n",
    "tn_33_agg_icd = tn_33_agg_icd.rename(columns = {'item_cnt_day' : 'item_cnt_month'})\n"
   ]
  },
  {
   "cell_type": "code",
   "execution_count": 11,
   "metadata": {},
   "outputs": [],
   "source": [
    "# A look at the item count data\n",
    "mean = tn_33_agg_icd.item_cnt_month.mean()\n",
    "median = tn_33_agg_icd.item_cnt_month.median()\n",
    "# print(f'mean:{mean}, median:{median}')\n",
    "# print(tn_33_agg_icd.item_cnt_month.describe())\n",
    "# tn_33_agg_icd.head()"
   ]
  },
  {
   "cell_type": "code",
   "execution_count": 12,
   "metadata": {},
   "outputs": [
    {
     "name": "stdout",
     "output_type": "stream",
     "text": [
      "Nulls in dataset due to missing item_id in train set:\n",
      "ID                     0\n",
      "item_cnt_month    185520\n",
      "dtype: int64\n"
     ]
    },
    {
     "data": {
      "text/html": [
       "<div>\n",
       "<style scoped>\n",
       "    .dataframe tbody tr th:only-of-type {\n",
       "        vertical-align: middle;\n",
       "    }\n",
       "\n",
       "    .dataframe tbody tr th {\n",
       "        vertical-align: top;\n",
       "    }\n",
       "\n",
       "    .dataframe thead th {\n",
       "        text-align: right;\n",
       "    }\n",
       "</style>\n",
       "<table border=\"1\" class=\"dataframe\">\n",
       "  <thead>\n",
       "    <tr style=\"text-align: right;\">\n",
       "      <th></th>\n",
       "      <th>ID</th>\n",
       "      <th>item_cnt_month</th>\n",
       "    </tr>\n",
       "  </thead>\n",
       "  <tbody>\n",
       "    <tr>\n",
       "      <th>0</th>\n",
       "      <td>0</td>\n",
       "      <td>0.0</td>\n",
       "    </tr>\n",
       "    <tr>\n",
       "      <th>1</th>\n",
       "      <td>1</td>\n",
       "      <td>0.0</td>\n",
       "    </tr>\n",
       "    <tr>\n",
       "      <th>2</th>\n",
       "      <td>2</td>\n",
       "      <td>1.0</td>\n",
       "    </tr>\n",
       "    <tr>\n",
       "      <th>3</th>\n",
       "      <td>3</td>\n",
       "      <td>0.0</td>\n",
       "    </tr>\n",
       "    <tr>\n",
       "      <th>4</th>\n",
       "      <td>4</td>\n",
       "      <td>0.0</td>\n",
       "    </tr>\n",
       "  </tbody>\n",
       "</table>\n",
       "</div>"
      ],
      "text/plain": [
       "   ID  item_cnt_month\n",
       "0   0             0.0\n",
       "1   1             0.0\n",
       "2   2             1.0\n",
       "3   3             0.0\n",
       "4   4             0.0"
      ]
     },
     "execution_count": 12,
     "metadata": {},
     "output_type": "execute_result"
    }
   ],
   "source": [
    "# Map the previous month data to prediction month data.\n",
    "df_merge = ts.merge(tn_33_agg_icd, on=['shop_id', 'item_id'], how='left')[['ID', 'item_cnt_month']]\n",
    "\n",
    "# Fill the NaN's with zero. There are many NaN's as plenty of item are missing in last month\n",
    "print(f'Nulls in dataset due to missing item_id in train set:\\n{df_merge.isna().sum()}')\n",
    "\n",
    "# Clip the values as given in coursera advisory\n",
    "df_merge = df_merge.item_cnt_month.fillna(0).clip(0,20).reset_index()\n",
    "\n",
    "# Rename for submission \n",
    "df_merge = df_merge.rename(columns ={'index':'ID'})\n",
    "\n",
    "df_merge.head()\n"
   ]
  },
  {
   "cell_type": "code",
   "execution_count": 13,
   "metadata": {},
   "outputs": [],
   "source": [
    "submission = df_merge.set_index('ID')\n",
    "submission.to_csv('benchmark.csv')"
   ]
  },
  {
   "cell_type": "code",
   "execution_count": 14,
   "metadata": {},
   "outputs": [
    {
     "data": {
      "text/plain": [
       "0    0.000000\n",
       "1    0.000000\n",
       "2    1.021264\n",
       "3    0.000000\n",
       "4    0.000000\n",
       "Name: item_cnt_month, dtype: float64"
      ]
     },
     "execution_count": 14,
     "metadata": {},
     "output_type": "execute_result"
    }
   ],
   "source": [
    "# Trying by using the increase of last years from Oct to Nov\n",
    "\n",
    "# Rows selected of Oct'14 and Nov'14\n",
    "tn_month_21 = df_train[df_train.date_block_num == 21]\n",
    "tn_month_22 = df_train[df_train.date_block_num == 22]\n",
    "\n",
    "tn_21_agg_icd = tn_month_21.groupby(['shop_id','item_id'])['item_cnt_day'].sum().reset_index()\n",
    "tn_22_agg_icd = tn_month_22.groupby(['shop_id','item_id'])['item_cnt_day'].sum().reset_index()\n",
    "\n",
    "mean_21 = tn_21_agg_icd.item_cnt_day.mean()\n",
    "mean_22 = tn_22_agg_icd.item_cnt_day.mean()\n",
    "\n",
    "monthly_increase = mean_22 / mean_21\n",
    "# print(monthly_increase)\n",
    "\n",
    "df_merge_increase = df_merge['item_cnt_month'] * monthly_increase\n",
    "df_merge_increase.head()\n"
   ]
  },
  {
   "cell_type": "code",
   "execution_count": 15,
   "metadata": {},
   "outputs": [],
   "source": [
    "submission = df_merge.set_index('ID')\n",
    "submission.to_csv('benchmark_inc.csv')"
   ]
  },
  {
   "cell_type": "markdown",
   "metadata": {},
   "source": [
    "Same score of 1.16777\n",
    "\n",
    "### Dictionaries\n",
    "\n",
    "1. Category\n",
    "2. Shop-Item price"
   ]
  },
  {
   "cell_type": "code",
   "execution_count": 16,
   "metadata": {},
   "outputs": [],
   "source": [
    "# Make dictionary of shop-item pair to item price\n",
    "# And of item_id to item_category_id\n",
    "\n",
    "# Use only the required columns\n",
    "df_shop_item = tn[['shop_id', 'item_id', 'item_price']]\n",
    "# New coloumn by concatinating shop item pair\n",
    "df_shop_item['shop_item'] = df_shop_item['shop_id'].astype(str) +'_'+ df_shop_item['item_id'].astype(str)\n",
    "\n",
    "# Drop all duplicates and keep the last as it is time series forecast\n",
    "df_shop_item.drop_duplicates('shop_item',keep='last', inplace=True)\n",
    "\n",
    "# Check why error.\n",
    "# item_price = df_shop_item[['shop_item','item_price']].to_dict()['item_price']\n",
    "\n",
    "df_shop_item.drop(['shop_id','item_id'], axis = 1, inplace=True)\n",
    "\n",
    "# Make the dictionary\n",
    "df_shop_item.set_index('shop_item', inplace=True)\n",
    "item_price = df_shop_item.to_dict()['item_price']\n",
    "\n",
    "# print(df_shop_item.head(2))\n",
    "\n",
    "# We create the dictionary\n",
    "item_cat = items[['item_id','item_category_id']].to_dict()['item_category_id']\n"
   ]
  },
  {
   "cell_type": "markdown",
   "metadata": {},
   "source": [
    "### Arithmetic Series Sum\n",
    "\n",
    "$$ S_n  = \\frac{1}{2}n(a_1 +a_n) $$"
   ]
  },
  {
   "cell_type": "code",
   "execution_count": 17,
   "metadata": {},
   "outputs": [
    {
     "name": "stdout",
     "output_type": "stream",
     "text": [
      "True\n",
      "True\n"
     ]
    }
   ],
   "source": [
    "series_sum = 0.5 * ts.ID.count() * (ts.ID[0] + ts.ID[ts.shape[0] - 1])\n",
    "series_mean = 0.5 * (ts.ID[0] + ts.ID[ts.shape[0] - 1])\n",
    "print(series_sum == ts.ID.sum())\n",
    "print(series_mean == ts.ID.mean())"
   ]
  },
  {
   "cell_type": "markdown",
   "metadata": {},
   "source": [
    "Looks as if ID is a counter. So can be dropped and brought back."
   ]
  },
  {
   "cell_type": "code",
   "execution_count": 18,
   "metadata": {},
   "outputs": [
    {
     "name": "stdout",
     "output_type": "stream",
     "text": [
      "(2935849, 6)\n",
      "(1739022, 6)\n"
     ]
    },
    {
     "data": {
      "text/html": [
       "<div>\n",
       "<style scoped>\n",
       "    .dataframe tbody tr th:only-of-type {\n",
       "        vertical-align: middle;\n",
       "    }\n",
       "\n",
       "    .dataframe tbody tr th {\n",
       "        vertical-align: top;\n",
       "    }\n",
       "\n",
       "    .dataframe thead th {\n",
       "        text-align: right;\n",
       "    }\n",
       "</style>\n",
       "<table border=\"1\" class=\"dataframe\">\n",
       "  <thead>\n",
       "    <tr style=\"text-align: right;\">\n",
       "      <th></th>\n",
       "      <th>date_block_num</th>\n",
       "      <th>shop_id</th>\n",
       "      <th>item_id</th>\n",
       "      <th>item_price</th>\n",
       "      <th>item_cnt_day</th>\n",
       "      <th>item_category_id</th>\n",
       "    </tr>\n",
       "  </thead>\n",
       "  <tbody>\n",
       "    <tr>\n",
       "      <th>1716882</th>\n",
       "      <td>33</td>\n",
       "      <td>24</td>\n",
       "      <td>6740</td>\n",
       "      <td>999.0</td>\n",
       "      <td>1.0</td>\n",
       "      <td>30</td>\n",
       "    </tr>\n",
       "    <tr>\n",
       "      <th>1716881</th>\n",
       "      <td>33</td>\n",
       "      <td>24</td>\n",
       "      <td>6738</td>\n",
       "      <td>999.0</td>\n",
       "      <td>2.0</td>\n",
       "      <td>30</td>\n",
       "    </tr>\n",
       "    <tr>\n",
       "      <th>1716880</th>\n",
       "      <td>33</td>\n",
       "      <td>24</td>\n",
       "      <td>6710</td>\n",
       "      <td>599.0</td>\n",
       "      <td>2.0</td>\n",
       "      <td>30</td>\n",
       "    </tr>\n",
       "    <tr>\n",
       "      <th>1716910</th>\n",
       "      <td>33</td>\n",
       "      <td>24</td>\n",
       "      <td>7499</td>\n",
       "      <td>399.0</td>\n",
       "      <td>1.0</td>\n",
       "      <td>55</td>\n",
       "    </tr>\n",
       "    <tr>\n",
       "      <th>1739021</th>\n",
       "      <td>33</td>\n",
       "      <td>59</td>\n",
       "      <td>22102</td>\n",
       "      <td>1250.0</td>\n",
       "      <td>1.0</td>\n",
       "      <td>42</td>\n",
       "    </tr>\n",
       "  </tbody>\n",
       "</table>\n",
       "</div>"
      ],
      "text/plain": [
       "         date_block_num  shop_id  item_id  item_price  item_cnt_day  \\\n",
       "1716882              33       24     6740       999.0           1.0   \n",
       "1716881              33       24     6738       999.0           2.0   \n",
       "1716880              33       24     6710       599.0           2.0   \n",
       "1716910              33       24     7499       399.0           1.0   \n",
       "1739021              33       59    22102      1250.0           1.0   \n",
       "\n",
       "         item_category_id  \n",
       "1716882                30  \n",
       "1716881                30  \n",
       "1716880                30  \n",
       "1716910                55  \n",
       "1739021                42  "
      ]
     },
     "execution_count": 18,
     "metadata": {},
     "output_type": "execute_result"
    }
   ],
   "source": [
    "# The train data is daily, change to Monthly as test data is monthly\n",
    "# Include category column as it is an important feature\n",
    "df_tn_reduce = train.copy()\n",
    "print(df_tn_reduce.shape)\n",
    "df_tn_reduce = df_tn_reduce.groupby(\n",
    "        ['date_block_num','shop_id','item_id','item_price'])['item_cnt_day'].sum().reset_index()\n",
    "\n",
    "\n",
    "# Include Categories\n",
    "df_tn_reduce['item_category_id'] = df_tn_reduce['item_id'].map(item_cat)\n",
    "df_tn_reduce.sort_values(by=['date_block_num'], inplace=True)\n",
    "\n",
    "y = df_tn_reduce['item_cnt_day']\n",
    "\n",
    "print(df_tn_reduce.shape)\n",
    "#df_tn_reduce = df_tn_reduce.drop(['date','item_cnt_day'], axis = 1)\n",
    "df_tn_reduce.tail()"
   ]
  },
  {
   "cell_type": "code",
   "execution_count": 19,
   "metadata": {},
   "outputs": [],
   "source": [
    "# Split the train set to train and validate\n",
    "# Take oct and nov months of last 2 years as they are similar to test set which is nov month\n",
    "df_train = df_tn_reduce.loc[(df_tn_reduce['date_block_num'] != 22) & (\n",
    "                df_tn_reduce['date_block_num'] != 21) & (df_tn_reduce['date_block_num'] != 10\n",
    "                ) & (df_tn_reduce['date_block_num'] != 11)]\n",
    "\n",
    "df_val = df_tn_reduce.loc[(df_tn_reduce['date_block_num'] == 22) | (\n",
    "                df_tn_reduce['date_block_num'] == 21) | (df_tn_reduce['date_block_num'] == 10\n",
    "                ) | (df_tn_reduce['date_block_num'] == 11)]\n",
    "\n",
    "# # Check the total count\n",
    "# print(f' Total rows: {df_tn_reduce.shape[0]} Train set:{df_train.shape[0]} Validation set: {df_val.shape[0]}')\n",
    "# print(df_train.shape[0] + df_val.shape[0])\n"
   ]
  },
  {
   "cell_type": "code",
   "execution_count": 20,
   "metadata": {},
   "outputs": [],
   "source": [
    "# Take out the targets for train and validate\n",
    "y_train = df_train['item_cnt_day']\n",
    "x_train = df_train.drop(['item_cnt_day'], axis=1)\n",
    "\n",
    "y_val = df_val['item_cnt_day']\n",
    "x_val = df_val.drop(['item_cnt_day'], axis=1)\n",
    "\n",
    "# # Shuffle\n",
    "# y_train = y_train.sample(frac=1,random_state=1)\n",
    "# x_train = x_train.sample(frac=1,random_state=1)\n",
    "# y_val = y_val.sample(frac=1,random_state=1)\n",
    "# x_val = x_val.sample(frac=1,random_state=1)\n",
    "\n",
    "#y_val.shape"
   ]
  },
  {
   "cell_type": "code",
   "execution_count": 21,
   "metadata": {},
   "outputs": [
    {
     "data": {
      "text/plain": [
       "5"
      ]
     },
     "execution_count": 21,
     "metadata": {},
     "output_type": "execute_result"
    }
   ],
   "source": [
    "x_train.shape[1]"
   ]
  },
  {
   "cell_type": "code",
   "execution_count": 22,
   "metadata": {},
   "outputs": [
    {
     "data": {
      "text/html": [
       "<div>\n",
       "<style scoped>\n",
       "    .dataframe tbody tr th:only-of-type {\n",
       "        vertical-align: middle;\n",
       "    }\n",
       "\n",
       "    .dataframe tbody tr th {\n",
       "        vertical-align: top;\n",
       "    }\n",
       "\n",
       "    .dataframe thead th {\n",
       "        text-align: right;\n",
       "    }\n",
       "</style>\n",
       "<table border=\"1\" class=\"dataframe\">\n",
       "  <thead>\n",
       "    <tr style=\"text-align: right;\">\n",
       "      <th></th>\n",
       "      <th>date_block_num</th>\n",
       "      <th>shop_id</th>\n",
       "      <th>item_id</th>\n",
       "      <th>item_price</th>\n",
       "      <th>item_category_id</th>\n",
       "    </tr>\n",
       "  </thead>\n",
       "  <tbody>\n",
       "    <tr>\n",
       "      <th>0</th>\n",
       "      <td>34</td>\n",
       "      <td>5</td>\n",
       "      <td>5037</td>\n",
       "      <td>749.5</td>\n",
       "      <td>40</td>\n",
       "    </tr>\n",
       "    <tr>\n",
       "      <th>1</th>\n",
       "      <td>34</td>\n",
       "      <td>5</td>\n",
       "      <td>5320</td>\n",
       "      <td>0.0</td>\n",
       "      <td>37</td>\n",
       "    </tr>\n",
       "    <tr>\n",
       "      <th>2</th>\n",
       "      <td>34</td>\n",
       "      <td>5</td>\n",
       "      <td>5233</td>\n",
       "      <td>1199.0</td>\n",
       "      <td>40</td>\n",
       "    </tr>\n",
       "    <tr>\n",
       "      <th>3</th>\n",
       "      <td>34</td>\n",
       "      <td>5</td>\n",
       "      <td>5232</td>\n",
       "      <td>599.0</td>\n",
       "      <td>40</td>\n",
       "    </tr>\n",
       "    <tr>\n",
       "      <th>4</th>\n",
       "      <td>34</td>\n",
       "      <td>5</td>\n",
       "      <td>5268</td>\n",
       "      <td>0.0</td>\n",
       "      <td>57</td>\n",
       "    </tr>\n",
       "  </tbody>\n",
       "</table>\n",
       "</div>"
      ],
      "text/plain": [
       "   date_block_num  shop_id  item_id  item_price  item_category_id\n",
       "0              34        5     5037       749.5                40\n",
       "1              34        5     5320         0.0                37\n",
       "2              34        5     5233      1199.0                40\n",
       "3              34        5     5232       599.0                40\n",
       "4              34        5     5268         0.0                57"
      ]
     },
     "execution_count": 22,
     "metadata": {},
     "output_type": "execute_result"
    }
   ],
   "source": [
    "# Add features to test set to make it similar to train set for use in the model\n",
    "# Use the 2 dictionaries of category and shop-item pair and the price\n",
    "\n",
    "df_ts_expand = test.copy()\n",
    "df_ts_expand['shop_item']=df_ts_expand[\"shop_id\"].astype(str) +\"_\"+ df_ts_expand[\"item_id\"].astype(str)\n",
    "df_ts_expand['item_price'] = df_ts_expand['shop_item'].map(item_price)\n",
    "df_ts_expand['item_price'].fillna(0, inplace=True)\n",
    "df_ts_expand['item_category_id'] = df_tn_reduce['item_id'].map(item_cat)\n",
    "\n",
    "df_ts_expand['date_block_num'] = 34\n",
    "\n",
    "ts_index = df_ts_expand['ID']\n",
    "df_ts_expand.drop(['ID', 'shop_item'], axis = 1, inplace = True)\n",
    "df_ts_expand = df_ts_expand.reindex(\n",
    "            ['date_block_num','shop_id','item_id', 'item_price', 'item_category_id'],axis=1)\n",
    "\n",
    "df_ts_expand.head()\n",
    "#df_ts_expand.isna().sum()"
   ]
  },
  {
   "cell_type": "code",
   "execution_count": 23,
   "metadata": {},
   "outputs": [],
   "source": [
    "# Implement callback function to stop training\n",
    "# when accuracy reaches e.g. \n",
    "ERROR_THRESHOLD = 10850.0\n",
    "class myCallback(tf.keras.callbacks.Callback): \n",
    "    def on_epoch_end(self, epoch, logs={}): \n",
    "        if(logs.get('loss') < ERROR_THRESHOLD):   \n",
    "            print(\"\\nReached %2.2f%% accuracy, so stopping training!!\" %(ERROR_THRESHOLD))   \n",
    "            self.model.stop_training = True\n",
    "            \n"
   ]
  },
  {
   "cell_type": "code",
   "execution_count": 24,
   "metadata": {},
   "outputs": [],
   "source": [
    "# Instantiate a callback object\n",
    "callbacks = myCallback()"
   ]
  },
  {
   "cell_type": "code",
   "execution_count": 25,
   "metadata": {},
   "outputs": [],
   "source": [
    "def build_model():\n",
    "    model = keras.Sequential([\n",
    "        layers.Dense(64, activation='relu',input_shape=[x_train.shape[1]]),\n",
    "        layers.Dense(64, activation='relu'),\n",
    "       layers.Dense(1)\n",
    "      ])\n",
    "\n",
    "    optimizer = 'adam'\n",
    "    \n",
    "    model.compile(loss='mean_absolute_error',\n",
    "                optimizer=optimizer,\n",
    "                metrics=['mae',])\n",
    "    return model"
   ]
  },
  {
   "cell_type": "code",
   "execution_count": 26,
   "metadata": {},
   "outputs": [],
   "source": [
    "keras_model = build_model()"
   ]
  },
  {
   "cell_type": "code",
   "execution_count": 27,
   "metadata": {},
   "outputs": [
    {
     "name": "stdout",
     "output_type": "stream",
     "text": [
      "Epoch 1/5\n",
      "30379/30379 [==============================] - 33s 1ms/step - loss: 6.3056 - mae: 6.3056 - val_loss: 1.4676 - val_mae: 1.4676\n",
      "Epoch 2/5\n",
      "30379/30379 [==============================] - 33s 1ms/step - loss: 1.0539 - mae: 1.0539 - val_loss: 1.4530 - val_mae: 1.4530\n",
      "Epoch 3/5\n",
      "30379/30379 [==============================] - 37s 1ms/step - loss: 1.0537 - mae: 1.0537 - val_loss: 1.4538 - val_mae: 1.4538\n",
      "Epoch 4/5\n",
      "30379/30379 [==============================] - 43s 1ms/step - loss: 1.0537 - mae: 1.0537 - val_loss: 1.4530 - val_mae: 1.4530\n",
      "Epoch 5/5\n",
      "30379/30379 [==============================] - 34s 1ms/step - loss: 1.0536 - mae: 1.0536 - val_loss: 1.4541 - val_mae: 1.4541\n"
     ]
    }
   ],
   "source": [
    "EPOCHS = 5\n",
    "\n",
    "history = keras_model.fit(\n",
    "  x_train, y_train,\n",
    "  epochs=EPOCHS,\n",
    "    batch_size=50,\n",
    "    validation_data=(x_val, y_val),\n",
    "    #callbacks=[callbacks],\n",
    "  )"
   ]
  },
  {
   "cell_type": "code",
   "execution_count": 28,
   "metadata": {},
   "outputs": [],
   "source": [
    "# Preprocessing of test data, fit model\n",
    "preds_test = keras_model.predict(df_ts_expand)\n",
    "\n",
    "# The prediction is of type numpy.ndarray\n",
    "preds_list = preds_test.tolist()\n",
    "\n",
    "# Extract the prediction and put it in a list\n",
    "prediction = []\n",
    "for item in preds_list:\n",
    "    prediction.append(item[0])"
   ]
  },
  {
   "cell_type": "code",
   "execution_count": 29,
   "metadata": {},
   "outputs": [],
   "source": [
    "# xgb_model = XGBRegressor(n_estimators=1000, learning_rate=0.05, n_jobs=4)\n",
    "# xgb_model.fit(x_train, y_train, \n",
    "#              early_stopping_rounds=5, \n",
    "#              eval_set=[(x_val, y_val)], \n",
    "#              verbose=False)"
   ]
  },
  {
   "cell_type": "code",
   "execution_count": 30,
   "metadata": {},
   "outputs": [],
   "source": [
    "# preds = xgb_model.predict(df_ts_expand)"
   ]
  },
  {
   "cell_type": "code",
   "execution_count": 31,
   "metadata": {},
   "outputs": [],
   "source": [
    "# prediction = (np.clip(preds, a_min = 0, a_max = 20)).tolist()\n",
    "#prediction"
   ]
  },
  {
   "cell_type": "code",
   "execution_count": 32,
   "metadata": {},
   "outputs": [],
   "source": [
    "# Save test predictions to file\n",
    "output = pd.DataFrame({'ID': ts_index,\n",
    "                       'item_cnt_month': prediction})\n"
   ]
  },
  {
   "cell_type": "code",
   "execution_count": 33,
   "metadata": {},
   "outputs": [],
   "source": [
    "#output.to_csv('XbgModel.csv', index=False)"
   ]
  },
  {
   "cell_type": "code",
   "execution_count": 34,
   "metadata": {},
   "outputs": [],
   "source": [
    "output.to_csv('KerasModel.csv', index=False)"
   ]
  }
 ],
 "metadata": {
  "kernelspec": {
   "display_name": "Python 3",
   "language": "python",
   "name": "python3"
  },
  "language_info": {
   "codemirror_mode": {
    "name": "ipython",
    "version": 3
   },
   "file_extension": ".py",
   "mimetype": "text/x-python",
   "name": "python",
   "nbconvert_exporter": "python",
   "pygments_lexer": "ipython3",
   "version": "3.8.2"
  }
 },
 "nbformat": 4,
 "nbformat_minor": 4
}
