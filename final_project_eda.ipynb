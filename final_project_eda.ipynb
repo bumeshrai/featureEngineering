{
 "cells": [
  {
   "cell_type": "code",
   "execution_count": 1,
   "metadata": {},
   "outputs": [],
   "source": [
    "import pandas as pd\n",
    "import numpy as np\n",
    "import matplotlib.pyplot as plt\n",
    "\n",
    "import seaborn as sns"
   ]
  },
  {
   "cell_type": "code",
   "execution_count": 2,
   "metadata": {},
   "outputs": [],
   "source": [
    "# Read the data into variable\n",
    "\n",
    "train = pd.read_csv('./final_project_data/sales_train.csv')\n",
    "items = pd.read_csv('./final_project_data/items.csv')\n",
    "item_categories = pd.read_csv('./final_project_data/item_categories.csv')\n",
    "shops = pd.read_csv('./final_project_data/shops.csv')\n",
    "test = pd.read_csv('./final_project_data/test.csv')"
   ]
  },
  {
   "cell_type": "code",
   "execution_count": 3,
   "metadata": {},
   "outputs": [
    {
     "name": "stdout",
     "output_type": "stream",
     "text": [
      "Shapes of data are:\n",
      " train:(2935849, 6)\n",
      " test:(214200, 3)\n",
      " items:(22170, 3)\n",
      " item_categories:(84, 2) \n",
      " shops:(60, 2)\n"
     ]
    }
   ],
   "source": [
    "print(f'Shapes of data are:\\n train:{train.shape}\\n test:{test.shape}\\n items:{items.shape}' +\n",
    "     f'\\n item_categories:{item_categories.shape} \\n shops:{shops.shape}')"
   ]
  },
  {
   "cell_type": "code",
   "execution_count": 4,
   "metadata": {},
   "outputs": [
    {
     "name": "stdout",
     "output_type": "stream",
     "text": [
      "Total shops in train: 60\t in test: 42 \n",
      "items in train: 21807 \t in test:5100. \n",
      "\n",
      "For test, the number of rows is (shops x item = 214200), this is same as the number of rows 214200\n"
     ]
    }
   ],
   "source": [
    "train_shops = train.shop_id.unique()\n",
    "test_shops = test.shop_id.unique()\n",
    "train_items = train.item_id.unique()\n",
    "test_items = test.item_id.unique()\n",
    "\n",
    "print(f'Total shops in train: {len(train_shops)}\\t in test: {len(test_shops)} \\n' +\n",
    "      f'items in train: {len(train_items)} \\t in test:{len(test_items)}. \\n')\n",
    "print(f'For test, the number of rows is (shops x item = {len(test_shops)*len(test_items)}),' +\n",
    "      f' this is same as the number of rows {test.shape[0]}')"
   ]
  },
  {
   "cell_type": "code",
   "execution_count": 5,
   "metadata": {},
   "outputs": [
    {
     "name": "stdout",
     "output_type": "stream",
     "text": [
      "train has all shops in test? True\n",
      "train has all items in test? False\n"
     ]
    }
   ],
   "source": [
    "print(f'train has all shops in test? {set(test_shops.tolist()).issubset(set(train_shops.tolist()))}\\n'+\n",
    "      f'train has all items in test? {set(test_items.tolist()).issubset(set(train_items.tolist()))}')"
   ]
  },
  {
   "cell_type": "code",
   "execution_count": 6,
   "metadata": {},
   "outputs": [],
   "source": [
    "# Run this code if train have to have only the test shops and items\n",
    "# Better approach would be fill the missing from train items with 0/mean/median\n",
    "\n",
    "# train = train[train.item_id.isin(test_items)]\n",
    "# train = train[train.shop_id.isin(test_shops)]\n"
   ]
  },
  {
   "cell_type": "code",
   "execution_count": 7,
   "metadata": {},
   "outputs": [
    {
     "name": "stdout",
     "output_type": "stream",
     "text": [
      "Null's in train dataset: 0\n",
      "Null's in test dataset: 0\n"
     ]
    }
   ],
   "source": [
    "print(f\"Null's in train dataset: {train.isnull().sum().sum()}\")\n",
    "print(f\"Null's in test dataset: {test.isnull().sum().sum()}\")"
   ]
  },
  {
   "cell_type": "code",
   "execution_count": 8,
   "metadata": {},
   "outputs": [
    {
     "data": {
      "text/html": [
       "<div>\n",
       "<style scoped>\n",
       "    .dataframe tbody tr th:only-of-type {\n",
       "        vertical-align: middle;\n",
       "    }\n",
       "\n",
       "    .dataframe tbody tr th {\n",
       "        vertical-align: top;\n",
       "    }\n",
       "\n",
       "    .dataframe thead th {\n",
       "        text-align: right;\n",
       "    }\n",
       "</style>\n",
       "<table border=\"1\" class=\"dataframe\">\n",
       "  <thead>\n",
       "    <tr style=\"text-align: right;\">\n",
       "      <th></th>\n",
       "      <th>date</th>\n",
       "      <th>date_block_num</th>\n",
       "      <th>shop_id</th>\n",
       "      <th>item_id</th>\n",
       "      <th>item_price</th>\n",
       "      <th>item_cnt_day</th>\n",
       "    </tr>\n",
       "  </thead>\n",
       "  <tbody>\n",
       "    <tr>\n",
       "      <th>0</th>\n",
       "      <td>02.01.2013</td>\n",
       "      <td>0</td>\n",
       "      <td>59</td>\n",
       "      <td>22154</td>\n",
       "      <td>999.00</td>\n",
       "      <td>1.0</td>\n",
       "    </tr>\n",
       "    <tr>\n",
       "      <th>1</th>\n",
       "      <td>03.01.2013</td>\n",
       "      <td>0</td>\n",
       "      <td>25</td>\n",
       "      <td>2552</td>\n",
       "      <td>899.00</td>\n",
       "      <td>1.0</td>\n",
       "    </tr>\n",
       "    <tr>\n",
       "      <th>2</th>\n",
       "      <td>05.01.2013</td>\n",
       "      <td>0</td>\n",
       "      <td>25</td>\n",
       "      <td>2552</td>\n",
       "      <td>899.00</td>\n",
       "      <td>-1.0</td>\n",
       "    </tr>\n",
       "    <tr>\n",
       "      <th>3</th>\n",
       "      <td>06.01.2013</td>\n",
       "      <td>0</td>\n",
       "      <td>25</td>\n",
       "      <td>2554</td>\n",
       "      <td>1709.05</td>\n",
       "      <td>1.0</td>\n",
       "    </tr>\n",
       "    <tr>\n",
       "      <th>4</th>\n",
       "      <td>15.01.2013</td>\n",
       "      <td>0</td>\n",
       "      <td>25</td>\n",
       "      <td>2555</td>\n",
       "      <td>1099.00</td>\n",
       "      <td>1.0</td>\n",
       "    </tr>\n",
       "  </tbody>\n",
       "</table>\n",
       "</div>"
      ],
      "text/plain": [
       "         date  date_block_num  shop_id  item_id  item_price  item_cnt_day\n",
       "0  02.01.2013               0       59    22154      999.00           1.0\n",
       "1  03.01.2013               0       25     2552      899.00           1.0\n",
       "2  05.01.2013               0       25     2552      899.00          -1.0\n",
       "3  06.01.2013               0       25     2554     1709.05           1.0\n",
       "4  15.01.2013               0       25     2555     1099.00           1.0"
      ]
     },
     "execution_count": 8,
     "metadata": {},
     "output_type": "execute_result"
    }
   ],
   "source": [
    "train.head()"
   ]
  },
  {
   "cell_type": "code",
   "execution_count": 9,
   "metadata": {},
   "outputs": [
    {
     "data": {
      "text/html": [
       "<div>\n",
       "<style scoped>\n",
       "    .dataframe tbody tr th:only-of-type {\n",
       "        vertical-align: middle;\n",
       "    }\n",
       "\n",
       "    .dataframe tbody tr th {\n",
       "        vertical-align: top;\n",
       "    }\n",
       "\n",
       "    .dataframe thead th {\n",
       "        text-align: right;\n",
       "    }\n",
       "</style>\n",
       "<table border=\"1\" class=\"dataframe\">\n",
       "  <thead>\n",
       "    <tr style=\"text-align: right;\">\n",
       "      <th></th>\n",
       "      <th>ID</th>\n",
       "      <th>shop_id</th>\n",
       "      <th>item_id</th>\n",
       "    </tr>\n",
       "  </thead>\n",
       "  <tbody>\n",
       "    <tr>\n",
       "      <th>0</th>\n",
       "      <td>0</td>\n",
       "      <td>5</td>\n",
       "      <td>5037</td>\n",
       "    </tr>\n",
       "    <tr>\n",
       "      <th>1</th>\n",
       "      <td>1</td>\n",
       "      <td>5</td>\n",
       "      <td>5320</td>\n",
       "    </tr>\n",
       "    <tr>\n",
       "      <th>2</th>\n",
       "      <td>2</td>\n",
       "      <td>5</td>\n",
       "      <td>5233</td>\n",
       "    </tr>\n",
       "    <tr>\n",
       "      <th>3</th>\n",
       "      <td>3</td>\n",
       "      <td>5</td>\n",
       "      <td>5232</td>\n",
       "    </tr>\n",
       "    <tr>\n",
       "      <th>4</th>\n",
       "      <td>4</td>\n",
       "      <td>5</td>\n",
       "      <td>5268</td>\n",
       "    </tr>\n",
       "  </tbody>\n",
       "</table>\n",
       "</div>"
      ],
      "text/plain": [
       "   ID  shop_id  item_id\n",
       "0   0        5     5037\n",
       "1   1        5     5320\n",
       "2   2        5     5233\n",
       "3   3        5     5232\n",
       "4   4        5     5268"
      ]
     },
     "execution_count": 9,
     "metadata": {},
     "output_type": "execute_result"
    }
   ],
   "source": [
    "test.head()"
   ]
  },
  {
   "cell_type": "code",
   "execution_count": 10,
   "metadata": {},
   "outputs": [],
   "source": [
    "# Copy the original dataset to temp \n",
    "tn = train.copy()\n",
    "ts = test.copy()"
   ]
  },
  {
   "cell_type": "code",
   "execution_count": 11,
   "metadata": {},
   "outputs": [
    {
     "data": {
      "text/plain": [
       "0          2013\n",
       "1          2013\n",
       "2          2013\n",
       "3          2013\n",
       "4          2013\n",
       "           ... \n",
       "2935844    2015\n",
       "2935845    2015\n",
       "2935846    2015\n",
       "2935847    2015\n",
       "2935848    2015\n",
       "Name: year, Length: 2935849, dtype: int16"
      ]
     },
     "execution_count": 11,
     "metadata": {},
     "output_type": "execute_result"
    }
   ],
   "source": [
    "tn['split'] = tn['date'].str.split('.')\n",
    "tn['year'] = tn['split'].map(lambda x: int(x[2]))\n",
    "tn['year'].astype(np.int16)"
   ]
  },
  {
   "cell_type": "code",
   "execution_count": null,
   "metadata": {},
   "outputs": [],
   "source": []
  },
  {
   "cell_type": "code",
   "execution_count": 12,
   "metadata": {},
   "outputs": [],
   "source": [
    "# train['date_block_num'].describe()"
   ]
  },
  {
   "cell_type": "code",
   "execution_count": 13,
   "metadata": {},
   "outputs": [
    {
     "name": "stdout",
     "output_type": "stream",
     "text": [
      "The training data period is from 2013-01-01 00:00:00 to 2015-10-31 00:00:00\n"
     ]
    }
   ],
   "source": [
    "tn['date'] = pd.to_datetime(tn['date'], format = '%d.%m.%Y')\n",
    "tn.sort_values(by=['date'], inplace=True)\n",
    "print(f\"The training data period is from {min(tn['date'])} to {max(tn['date'])}\")"
   ]
  },
  {
   "cell_type": "code",
   "execution_count": 14,
   "metadata": {},
   "outputs": [
    {
     "data": {
      "text/plain": [
       "<matplotlib.axes._subplots.AxesSubplot at 0x7f72af2f9c10>"
      ]
     },
     "execution_count": 14,
     "metadata": {},
     "output_type": "execute_result"
    },
    {
     "data": {
      "image/png": "[encoded data removed]",
      "text/plain": [
       "<Figure size 720x288 with 1 Axes>"
      ]
     },
     "metadata": {
      "needs_background": "light"
     },
     "output_type": "display_data"
    }
   ],
   "source": [
    "plt.figure(figsize=(10,4))\n",
    "plt.xlim(-200, 3000)\n",
    "plt.xticks(np.arange(-200, 3000, step=300))\n",
    "plt.grid()\n",
    "sns.boxplot(x=tn.item_cnt_day)"
   ]
  },
  {
   "cell_type": "code",
   "execution_count": 15,
   "metadata": {},
   "outputs": [
    {
     "data": {
      "text/plain": [
       "<matplotlib.axes._subplots.AxesSubplot at 0x7f72f97025e0>"
      ]
     },
     "execution_count": 15,
     "metadata": {},
     "output_type": "execute_result"
    },
    {
     "data": {
      "image/png": "[encoded data removed]",
      "text/plain": [
       "<Figure size 720x288 with 1 Axes>"
      ]
     },
     "metadata": {
      "needs_background": "light"
     },
     "output_type": "display_data"
    }
   ],
   "source": [
    "plt.figure(figsize=(10,4))\n",
    "plt.xlim(0, 330000)\n",
    "plt.xticks(np.arange(0, 330000, step=30000))\n",
    "plt.grid()\n",
    "sns.boxplot(x=tn.item_price)\n"
   ]
  },
  {
   "cell_type": "code",
   "execution_count": 16,
   "metadata": {},
   "outputs": [
    {
     "data": {
      "text/html": [
       "<div>\n",
       "<style scoped>\n",
       "    .dataframe tbody tr th:only-of-type {\n",
       "        vertical-align: middle;\n",
       "    }\n",
       "\n",
       "    .dataframe tbody tr th {\n",
       "        vertical-align: top;\n",
       "    }\n",
       "\n",
       "    .dataframe thead th {\n",
       "        text-align: right;\n",
       "    }\n",
       "</style>\n",
       "<table border=\"1\" class=\"dataframe\">\n",
       "  <thead>\n",
       "    <tr style=\"text-align: right;\">\n",
       "      <th></th>\n",
       "      <th>date</th>\n",
       "      <th>date_block_num</th>\n",
       "      <th>shop_id</th>\n",
       "      <th>item_id</th>\n",
       "      <th>item_price</th>\n",
       "      <th>item_cnt_day</th>\n",
       "      <th>split</th>\n",
       "      <th>year</th>\n",
       "      <th>item_revenue</th>\n",
       "      <th>month</th>\n",
       "      <th>day</th>\n",
       "      <th>category</th>\n",
       "    </tr>\n",
       "  </thead>\n",
       "  <tbody>\n",
       "    <tr>\n",
       "      <th>49800</th>\n",
       "      <td>2013-01-01</td>\n",
       "      <td>0</td>\n",
       "      <td>18</td>\n",
       "      <td>5823</td>\n",
       "      <td>2500.0</td>\n",
       "      <td>1.0</td>\n",
       "      <td>[01, 01, 2013]</td>\n",
       "      <td>2013</td>\n",
       "      <td>2500.0</td>\n",
       "      <td>1</td>\n",
       "      <td>1</td>\n",
       "      <td>35</td>\n",
       "    </tr>\n",
       "    <tr>\n",
       "      <th>29784</th>\n",
       "      <td>2013-01-01</td>\n",
       "      <td>0</td>\n",
       "      <td>27</td>\n",
       "      <td>5573</td>\n",
       "      <td>849.0</td>\n",
       "      <td>1.0</td>\n",
       "      <td>[01, 01, 2013]</td>\n",
       "      <td>2013</td>\n",
       "      <td>849.0</td>\n",
       "      <td>1</td>\n",
       "      <td>1</td>\n",
       "      <td>2</td>\n",
       "    </tr>\n",
       "    <tr>\n",
       "      <th>35476</th>\n",
       "      <td>2013-01-01</td>\n",
       "      <td>0</td>\n",
       "      <td>7</td>\n",
       "      <td>1006</td>\n",
       "      <td>399.0</td>\n",
       "      <td>1.0</td>\n",
       "      <td>[01, 01, 2013]</td>\n",
       "      <td>2013</td>\n",
       "      <td>399.0</td>\n",
       "      <td>1</td>\n",
       "      <td>1</td>\n",
       "      <td>67</td>\n",
       "    </tr>\n",
       "    <tr>\n",
       "      <th>8330</th>\n",
       "      <td>2013-01-01</td>\n",
       "      <td>0</td>\n",
       "      <td>19</td>\n",
       "      <td>17707</td>\n",
       "      <td>899.0</td>\n",
       "      <td>1.0</td>\n",
       "      <td>[01, 01, 2013]</td>\n",
       "      <td>2013</td>\n",
       "      <td>899.0</td>\n",
       "      <td>1</td>\n",
       "      <td>1</td>\n",
       "      <td>19</td>\n",
       "    </tr>\n",
       "    <tr>\n",
       "      <th>57384</th>\n",
       "      <td>2013-01-01</td>\n",
       "      <td>0</td>\n",
       "      <td>14</td>\n",
       "      <td>19548</td>\n",
       "      <td>149.0</td>\n",
       "      <td>1.0</td>\n",
       "      <td>[01, 01, 2013]</td>\n",
       "      <td>2013</td>\n",
       "      <td>149.0</td>\n",
       "      <td>1</td>\n",
       "      <td>1</td>\n",
       "      <td>40</td>\n",
       "    </tr>\n",
       "  </tbody>\n",
       "</table>\n",
       "</div>"
      ],
      "text/plain": [
       "            date  date_block_num  shop_id  item_id  item_price  item_cnt_day  \\\n",
       "49800 2013-01-01               0       18     5823      2500.0           1.0   \n",
       "29784 2013-01-01               0       27     5573       849.0           1.0   \n",
       "35476 2013-01-01               0        7     1006       399.0           1.0   \n",
       "8330  2013-01-01               0       19    17707       899.0           1.0   \n",
       "57384 2013-01-01               0       14    19548       149.0           1.0   \n",
       "\n",
       "                split  year  item_revenue  month  day  category  \n",
       "49800  [01, 01, 2013]  2013        2500.0      1    1        35  \n",
       "29784  [01, 01, 2013]  2013         849.0      1    1         2  \n",
       "35476  [01, 01, 2013]  2013         399.0      1    1        67  \n",
       "8330   [01, 01, 2013]  2013         899.0      1    1        19  \n",
       "57384  [01, 01, 2013]  2013         149.0      1    1        40  "
      ]
     },
     "execution_count": 16,
     "metadata": {},
     "output_type": "execute_result"
    }
   ],
   "source": [
    "tn['item_revenue'] = tn['item_price'] * tn['item_cnt_day']\n",
    "tn['year'] = tn['date'].dt.year\n",
    "tn['month'] = tn['date'].dt.month\n",
    "tn['day'] = tn['date'].dt.day\n",
    "\n",
    "# Include Categories\n",
    "# We create the dictionary\n",
    "item_cat = items[['item_id','item_category_id']].to_dict()['item_category_id']\n",
    "tn['category'] = tn['item_id'].map(item_cat)\n",
    "\n",
    "tn.head()"
   ]
  },
  {
   "cell_type": "code",
   "execution_count": 17,
   "metadata": {},
   "outputs": [
    {
     "data": {
      "text/plain": [
       "[<matplotlib.lines.Line2D at 0x7f72f959c2e0>]"
      ]
     },
     "execution_count": 17,
     "metadata": {},
     "output_type": "execute_result"
    },
    {
     "data": {
      "image/png": "[encoded data removed]",
      "text/plain": [
       "<Figure size 576x288 with 1 Axes>"
      ]
     },
     "metadata": {
      "needs_background": "light"
     },
     "output_type": "display_data"
    }
   ],
   "source": [
    "total_monthly_sales=tn.groupby(['date_block_num'])['item_revenue'].sum()\n",
    "plt.figure(figsize=(8,4))\n",
    "plt.title('Total Sales of the company')\n",
    "plt.xlabel('Time')\n",
    "plt.ylabel('Sales')\n",
    "plt.xticks(np.arange(0, 33, step=3))\n",
    "plt.grid()\n",
    "plt.plot(total_monthly_sales)"
   ]
  },
  {
   "cell_type": "code",
   "execution_count": 18,
   "metadata": {},
   "outputs": [
    {
     "data": {
      "text/plain": [
       "[<matplotlib.lines.Line2D at 0x7f72f9632c40>]"
      ]
     },
     "execution_count": 18,
     "metadata": {},
     "output_type": "execute_result"
    },
    {
     "data": {
      "image/png": "[encoded data removed]",
      "text/plain": [
       "<Figure size 576x288 with 1 Axes>"
      ]
     },
     "metadata": {
      "needs_background": "light"
     },
     "output_type": "display_data"
    }
   ],
   "source": [
    "total_monthly_item_sales=tn.groupby(['date_block_num'])['item_cnt_day'].sum()\n",
    "plt.figure(figsize=(8,4))\n",
    "plt.title('Total Item Sales of the company')\n",
    "plt.xlabel('Time')\n",
    "plt.ylabel('Sales')\n",
    "plt.xticks(np.arange(0, 33, step=3))\n",
    "plt.grid()\n",
    "plt.plot(total_monthly_item_sales)"
   ]
  },
  {
   "cell_type": "code",
   "execution_count": 19,
   "metadata": {},
   "outputs": [
    {
     "data": {
      "text/plain": [
       "date_block_num\n",
       "0    9.194709e+07\n",
       "1    9.066571e+07\n",
       "2    1.049327e+08\n",
       "3    6.915429e+07\n",
       "4    6.506531e+07\n",
       "5    7.955041e+07\n",
       "6    6.935060e+07\n",
       "7    7.429797e+07\n",
       "8    1.190819e+08\n",
       "9    1.072416e+08\n",
       "Name: item_revenue, dtype: float64"
      ]
     },
     "execution_count": 19,
     "metadata": {},
     "output_type": "execute_result"
    }
   ],
   "source": [
    "total_monthly_sales.head(10)"
   ]
  },
  {
   "cell_type": "markdown",
   "metadata": {},
   "source": [
    "### Trend\n",
    "\n",
    "Sales trend shows incresing sales at the end of year and increasing sales every year."
   ]
  },
  {
   "cell_type": "code",
   "execution_count": 20,
   "metadata": {
    "scrolled": true
   },
   "outputs": [
    {
     "data": {
      "text/plain": [
       "[<matplotlib.lines.Line2D at 0x7f72f95a0af0>]"
      ]
     },
     "execution_count": 20,
     "metadata": {},
     "output_type": "execute_result"
    },
    {
     "data": {
      "image/png": "[encoded data removed]",
      "text/plain": [
       "<Figure size 576x288 with 1 Axes>"
      ]
     },
     "metadata": {
      "needs_background": "light"
     },
     "output_type": "display_data"
    }
   ],
   "source": [
    "total_sales_by_category=tn.groupby(['category'])['item_revenue'].sum().reset_index()\n",
    "plt.figure(figsize=(8,4))\n",
    "plt.title('Sales by category')\n",
    "plt.xlabel('category')\n",
    "plt.ylabel('Sales')\n",
    "plt.xticks(np.arange(0, 80, step=5))\n",
    "plt.grid()\n",
    "plt.plot(total_sales_by_category['category'],total_sales_by_category['item_revenue'])"
   ]
  },
  {
   "cell_type": "code",
   "execution_count": 21,
   "metadata": {},
   "outputs": [],
   "source": [
    "total_monthly_sales_by_category=tn.groupby(['date_block_num','category'])['item_revenue'].sum().reset_index()"
   ]
  },
  {
   "cell_type": "code",
   "execution_count": 22,
   "metadata": {},
   "outputs": [],
   "source": [
    "imp_category = total_monthly_sales_by_category.loc[\n",
    "            total_monthly_sales_by_category['item_revenue'] > 1e8]"
   ]
  },
  {
   "cell_type": "code",
   "execution_count": 23,
   "metadata": {},
   "outputs": [
    {
     "data": {
      "text/plain": [
       "Int64Index([], dtype='int64')"
      ]
     },
     "execution_count": 23,
     "metadata": {},
     "output_type": "execute_result"
    }
   ],
   "source": [
    "imp_category.index"
   ]
  },
  {
   "cell_type": "code",
   "execution_count": 24,
   "metadata": {},
   "outputs": [
    {
     "data": {
      "text/plain": [
       "[<matplotlib.lines.Line2D at 0x7f72f9448b20>]"
      ]
     },
     "execution_count": 24,
     "metadata": {},
     "output_type": "execute_result"
    },
    {
     "data": {
      "image/png": "[encoded data removed]",
      "text/plain": [
       "<Figure size 576x288 with 1 Axes>"
      ]
     },
     "metadata": {
      "needs_background": "light"
     },
     "output_type": "display_data"
    }
   ],
   "source": [
    "cat_12_monthly_sale = total_monthly_sales_by_category.loc[total_monthly_sales_by_category['category'] == 12]\n",
    "plt.figure(figsize=(8,4))\n",
    "plt.title('Monthly Sales category 12')\n",
    "plt.xlabel('Month')\n",
    "plt.ylabel('Sales')\n",
    "plt.xticks(np.arange(0, 33, step=3))\n",
    "plt.grid()\n",
    "plt.plot(cat_12_monthly_sale['date_block_num'],cat_12_monthly_sale['item_revenue'])"
   ]
  },
  {
   "cell_type": "code",
   "execution_count": 25,
   "metadata": {},
   "outputs": [
    {
     "data": {
      "text/plain": [
       "[<matplotlib.lines.Line2D at 0x7f72f93a9040>]"
      ]
     },
     "execution_count": 25,
     "metadata": {},
     "output_type": "execute_result"
    },
    {
     "data": {
      "image/png": "[encoded data removed]",
      "text/plain": [
       "<Figure size 576x288 with 1 Axes>"
      ]
     },
     "metadata": {
      "needs_background": "light"
     },
     "output_type": "display_data"
    }
   ],
   "source": [
    "cat_19_monthly_sale = total_monthly_sales_by_category.loc[total_monthly_sales_by_category['category'] == 19]\n",
    "plt.figure(figsize=(8,4))\n",
    "plt.title('Monthly Sales category 19')\n",
    "plt.xlabel('Month')\n",
    "plt.ylabel('Sales')\n",
    "plt.xticks(np.arange(0, 33, step=3))\n",
    "plt.grid()\n",
    "plt.plot(cat_19_monthly_sale['date_block_num'],cat_19_monthly_sale['item_revenue'])"
   ]
  },
  {
   "cell_type": "code",
   "execution_count": 26,
   "metadata": {},
   "outputs": [
    {
     "data": {
      "text/plain": [
       "[<matplotlib.lines.Line2D at 0x7f72f9384c10>]"
      ]
     },
     "execution_count": 26,
     "metadata": {},
     "output_type": "execute_result"
    },
    {
     "data": {
      "image/png": "[encoded data removed]",
      "text/plain": [
       "<Figure size 576x288 with 1 Axes>"
      ]
     },
     "metadata": {
      "needs_background": "light"
     },
     "output_type": "display_data"
    }
   ],
   "source": [
    "cat_30_monthly_sale = total_monthly_sales_by_category.loc[total_monthly_sales_by_category['category'] == 30]\n",
    "plt.figure(figsize=(8,4))\n",
    "plt.title('Monthly Sales category 12')\n",
    "plt.xlabel('Month')\n",
    "plt.ylabel('Sales')\n",
    "plt.xticks(np.arange(0, 33, step=3))\n",
    "plt.grid()\n",
    "plt.plot(cat_30_monthly_sale['date_block_num'],cat_30_monthly_sale['item_revenue'])"
   ]
  },
  {
   "cell_type": "markdown",
   "metadata": {},
   "source": [
    "### Categories\n",
    "\n",
    "Every category looks to have a different trend"
   ]
  },
  {
   "cell_type": "code",
   "execution_count": 27,
   "metadata": {},
   "outputs": [],
   "source": [
    "# years = [2013, 2014, 2015]\n",
    "# months = [[n for n in range (1,13)], [n for n in range (1,13)], [n for n in range (1,11)]]\n"
   ]
  },
  {
   "cell_type": "code",
   "execution_count": 28,
   "metadata": {},
   "outputs": [],
   "source": [
    "# tn_month = tn[(tn[\"year\"] == years[0]) & (tn[\"month\"] == months[0][0])]\n",
    "# tn_month.head()"
   ]
  },
  {
   "cell_type": "code",
   "execution_count": 29,
   "metadata": {},
   "outputs": [],
   "source": [
    "# k=0\n",
    "# for i in range(len(years)):\n",
    "#     for j in range(len(months[i])):\n",
    "#         k +=1\n",
    "#         print(k)"
   ]
  },
  {
   "cell_type": "code",
   "execution_count": 30,
   "metadata": {},
   "outputs": [],
   "source": [
    "tn_monthly = tn.groupby(['date_block_num', 'shop_id', 'item_id']).agg(\n",
    "    {'item_cnt_day':'sum', 'item_revenue':'sum', 'month':'mean', 'year':'mean'})"
   ]
  },
  {
   "cell_type": "code",
   "execution_count": 31,
   "metadata": {},
   "outputs": [
    {
     "data": {
      "text/html": [
       "<div>\n",
       "<style scoped>\n",
       "    .dataframe tbody tr th:only-of-type {\n",
       "        vertical-align: middle;\n",
       "    }\n",
       "\n",
       "    .dataframe tbody tr th {\n",
       "        vertical-align: top;\n",
       "    }\n",
       "\n",
       "    .dataframe thead th {\n",
       "        text-align: right;\n",
       "    }\n",
       "</style>\n",
       "<table border=\"1\" class=\"dataframe\">\n",
       "  <thead>\n",
       "    <tr style=\"text-align: right;\">\n",
       "      <th></th>\n",
       "      <th>date_block_num</th>\n",
       "      <th>shop_id</th>\n",
       "      <th>item_id</th>\n",
       "      <th>item_cnt_day</th>\n",
       "      <th>item_revenue</th>\n",
       "      <th>month</th>\n",
       "      <th>year</th>\n",
       "    </tr>\n",
       "  </thead>\n",
       "  <tbody>\n",
       "    <tr>\n",
       "      <th>0</th>\n",
       "      <td>0</td>\n",
       "      <td>0</td>\n",
       "      <td>32</td>\n",
       "      <td>6.0</td>\n",
       "      <td>1326.0</td>\n",
       "      <td>1</td>\n",
       "      <td>2013</td>\n",
       "    </tr>\n",
       "    <tr>\n",
       "      <th>1</th>\n",
       "      <td>0</td>\n",
       "      <td>0</td>\n",
       "      <td>33</td>\n",
       "      <td>3.0</td>\n",
       "      <td>1041.0</td>\n",
       "      <td>1</td>\n",
       "      <td>2013</td>\n",
       "    </tr>\n",
       "    <tr>\n",
       "      <th>2</th>\n",
       "      <td>0</td>\n",
       "      <td>0</td>\n",
       "      <td>35</td>\n",
       "      <td>1.0</td>\n",
       "      <td>247.0</td>\n",
       "      <td>1</td>\n",
       "      <td>2013</td>\n",
       "    </tr>\n",
       "    <tr>\n",
       "      <th>3</th>\n",
       "      <td>0</td>\n",
       "      <td>0</td>\n",
       "      <td>43</td>\n",
       "      <td>1.0</td>\n",
       "      <td>221.0</td>\n",
       "      <td>1</td>\n",
       "      <td>2013</td>\n",
       "    </tr>\n",
       "    <tr>\n",
       "      <th>4</th>\n",
       "      <td>0</td>\n",
       "      <td>0</td>\n",
       "      <td>51</td>\n",
       "      <td>2.0</td>\n",
       "      <td>257.0</td>\n",
       "      <td>1</td>\n",
       "      <td>2013</td>\n",
       "    </tr>\n",
       "    <tr>\n",
       "      <th>...</th>\n",
       "      <td>...</td>\n",
       "      <td>...</td>\n",
       "      <td>...</td>\n",
       "      <td>...</td>\n",
       "      <td>...</td>\n",
       "      <td>...</td>\n",
       "      <td>...</td>\n",
       "    </tr>\n",
       "    <tr>\n",
       "      <th>1609119</th>\n",
       "      <td>33</td>\n",
       "      <td>59</td>\n",
       "      <td>22087</td>\n",
       "      <td>6.0</td>\n",
       "      <td>714.0</td>\n",
       "      <td>10</td>\n",
       "      <td>2015</td>\n",
       "    </tr>\n",
       "    <tr>\n",
       "      <th>1609120</th>\n",
       "      <td>33</td>\n",
       "      <td>59</td>\n",
       "      <td>22088</td>\n",
       "      <td>2.0</td>\n",
       "      <td>238.0</td>\n",
       "      <td>10</td>\n",
       "      <td>2015</td>\n",
       "    </tr>\n",
       "    <tr>\n",
       "      <th>1609121</th>\n",
       "      <td>33</td>\n",
       "      <td>59</td>\n",
       "      <td>22091</td>\n",
       "      <td>1.0</td>\n",
       "      <td>179.0</td>\n",
       "      <td>10</td>\n",
       "      <td>2015</td>\n",
       "    </tr>\n",
       "    <tr>\n",
       "      <th>1609122</th>\n",
       "      <td>33</td>\n",
       "      <td>59</td>\n",
       "      <td>22100</td>\n",
       "      <td>1.0</td>\n",
       "      <td>629.0</td>\n",
       "      <td>10</td>\n",
       "      <td>2015</td>\n",
       "    </tr>\n",
       "    <tr>\n",
       "      <th>1609123</th>\n",
       "      <td>33</td>\n",
       "      <td>59</td>\n",
       "      <td>22102</td>\n",
       "      <td>1.0</td>\n",
       "      <td>1250.0</td>\n",
       "      <td>10</td>\n",
       "      <td>2015</td>\n",
       "    </tr>\n",
       "  </tbody>\n",
       "</table>\n",
       "<p>1609124 rows × 7 columns</p>\n",
       "</div>"
      ],
      "text/plain": [
       "         date_block_num  shop_id  item_id  item_cnt_day  item_revenue  month  \\\n",
       "0                     0        0       32           6.0        1326.0      1   \n",
       "1                     0        0       33           3.0        1041.0      1   \n",
       "2                     0        0       35           1.0         247.0      1   \n",
       "3                     0        0       43           1.0         221.0      1   \n",
       "4                     0        0       51           2.0         257.0      1   \n",
       "...                 ...      ...      ...           ...           ...    ...   \n",
       "1609119              33       59    22087           6.0         714.0     10   \n",
       "1609120              33       59    22088           2.0         238.0     10   \n",
       "1609121              33       59    22091           1.0         179.0     10   \n",
       "1609122              33       59    22100           1.0         629.0     10   \n",
       "1609123              33       59    22102           1.0        1250.0     10   \n",
       "\n",
       "         year  \n",
       "0        2013  \n",
       "1        2013  \n",
       "2        2013  \n",
       "3        2013  \n",
       "4        2013  \n",
       "...       ...  \n",
       "1609119  2015  \n",
       "1609120  2015  \n",
       "1609121  2015  \n",
       "1609122  2015  \n",
       "1609123  2015  \n",
       "\n",
       "[1609124 rows x 7 columns]"
      ]
     },
     "execution_count": 31,
     "metadata": {},
     "output_type": "execute_result"
    }
   ],
   "source": [
    "tn_monthly.reset_index(inplace=True)\n",
    "tn_monthly"
   ]
  },
  {
   "cell_type": "code",
   "execution_count": 32,
   "metadata": {},
   "outputs": [],
   "source": [
    "# # Another approach\n",
    "# monthly_sales=train.groupby([\"date_block_num\",\"shop_id\",\"item_id\"])[\n",
    "#     \"date\",\"item_price\",\"item_cnt_day\"].agg({\"date\":[\"min\",'max'],\"item_price\":\"mean\",\"item_cnt_day\":\"sum\"})\n",
    "\n",
    "# ## Lets break down the line of code here:\n",
    "# # aggregate by date-block(month),shop_id and item_id\n",
    "# # select the columns date,item_price and item_cnt(sales)\n",
    "# # Provide a dictionary which says what aggregation to perform on which column\n",
    "# # min and max on the date\n",
    "# # average of the item_price\n",
    "# # sum of the sales"
   ]
  },
  {
   "cell_type": "code",
   "execution_count": null,
   "metadata": {},
   "outputs": [],
   "source": []
  }
 ],
 "metadata": {
  "kernelspec": {
   "display_name": "Python 3",
   "language": "python",
   "name": "python3"
  },
  "language_info": {
   "codemirror_mode": {
    "name": "ipython",
    "version": 3
   },
   "file_extension": ".py",
   "mimetype": "text/x-python",
   "name": "python",
   "nbconvert_exporter": "python",
   "pygments_lexer": "ipython3",
   "version": "3.8.2"
  }
 },
 "nbformat": 4,
 "nbformat_minor": 4
}
